{
 "cells": [
  {
   "cell_type": "markdown",
   "id": "01c77a48-a84e-41c7-a62b-1b82acaeca7b",
   "metadata": {},
   "source": [
    "# Generating a list of Catalan word frequencies"
   ]
  },
  {
   "cell_type": "code",
   "execution_count": 1,
   "id": "b109de1f-460a-4a7f-b5ba-975d52b6b433",
   "metadata": {},
   "outputs": [],
   "source": [
    "import pandas as pd\n",
    "import numpy as np\n",
    "import matplotlib.pyplot as plt"
   ]
  },
  {
   "cell_type": "markdown",
   "id": "4c1aaba3-1584-4d32-b9ef-60f8ae59dba2",
   "metadata": {},
   "source": [
    "## Gemini-generated csvs\n",
    "\n",
    "These were generated with the following prompt:\n",
    "\n",
    "> Genérame una lista de 50 palabras en orden de uso en la vida diaria. Crea cinco archivos csv para descargar delimitados por \";\", cada uno con 10 palabras. Los campos de cada archivo serán: 1) card_id; 2) front; 3) back; 4) catalan; 5) español, 6) palabra; 7) categoría_gramatical; 8) categoría_de_uso; 9) audio_file_name. El front será de tipo cloze: tendrá la frase en catalán seguida de la frase en castellano con una cloze c1 para la palabra catalana y una cloze c2 para la palabra en castellano. El back se utilizará para clickar en el audio tras revelar la carta, así que debe contener [sound:nom_exacte_del_fitxer.mp3], y nom_exacte_del_fitxer.mp3 debe coincidir con el campo 7) audio_file_name. Los nombres de fichero serán la frase catalana (sacada del campo 4) en minúsculas y snake case. El campo 5 tendrá la frase en castellano.\n"
   ]
  },
  {
   "cell_type": "code",
   "execution_count": 2,
   "id": "61c1407c-bdaf-49f1-9b11-ce788284c546",
   "metadata": {},
   "outputs": [
    {
     "data": {
      "text/html": [
       "<div>\n",
       "<style scoped>\n",
       "    .dataframe tbody tr th:only-of-type {\n",
       "        vertical-align: middle;\n",
       "    }\n",
       "\n",
       "    .dataframe tbody tr th {\n",
       "        vertical-align: top;\n",
       "    }\n",
       "\n",
       "    .dataframe thead th {\n",
       "        text-align: right;\n",
       "    }\n",
       "</style>\n",
       "<table border=\"1\" class=\"dataframe\">\n",
       "  <thead>\n",
       "    <tr style=\"text-align: right;\">\n",
       "      <th></th>\n",
       "      <th>card_id</th>\n",
       "      <th>front</th>\n",
       "      <th>back</th>\n",
       "      <th>catalan</th>\n",
       "      <th>español</th>\n",
       "      <th>palabra</th>\n",
       "      <th>categoría_gramatical</th>\n",
       "      <th>categoría_de_uso</th>\n",
       "      <th>audio_file_name</th>\n",
       "    </tr>\n",
       "  </thead>\n",
       "  <tbody>\n",
       "    <tr>\n",
       "      <th>0</th>\n",
       "      <td>cat_esp_201</td>\n",
       "      <td>CAT: El meu {{c1::fill}} juga al parc.&lt;br&gt;ESP:...</td>\n",
       "      <td>[sound:el_meu_fill_juga_al_parc.mp3]</td>\n",
       "      <td>El meu fill juga al parc.</td>\n",
       "      <td>Mi hijo juega en el parque.</td>\n",
       "      <td>fill</td>\n",
       "      <td>nom</td>\n",
       "      <td>Gent/Família</td>\n",
       "      <td>el_meu_fill_juga_al_parc.mp3</td>\n",
       "    </tr>\n",
       "    <tr>\n",
       "      <th>1</th>\n",
       "      <td>cat_esp_202</td>\n",
       "      <td>CAT: La meva {{c1::filla}} estudia molt.&lt;br&gt;ES...</td>\n",
       "      <td>[sound:la_meva_filla_estudia_molt.mp3]</td>\n",
       "      <td>La meva filla estudia molt.</td>\n",
       "      <td>Mi hija estudia mucho.</td>\n",
       "      <td>filla</td>\n",
       "      <td>nom</td>\n",
       "      <td>Gent/Família</td>\n",
       "      <td>la_meva_filla_estudia_molt.mp3</td>\n",
       "    </tr>\n",
       "    <tr>\n",
       "      <th>2</th>\n",
       "      <td>cat_esp_203</td>\n",
       "      <td>CAT: Aquest {{c1::nen}} és simpàtic.&lt;br&gt;ESP: E...</td>\n",
       "      <td>[sound:aquest_nen_es_simpatic.mp3]</td>\n",
       "      <td>Aquest nen és simpàtic.</td>\n",
       "      <td>Este niño es simpático.</td>\n",
       "      <td>nen</td>\n",
       "      <td>nom</td>\n",
       "      <td>Gent/Edat</td>\n",
       "      <td>aquest_nen_es_simpatic.mp3</td>\n",
       "    </tr>\n",
       "    <tr>\n",
       "      <th>3</th>\n",
       "      <td>cat_esp_204</td>\n",
       "      <td>CAT: La {{c1::nena}} riu contenta.&lt;br&gt;ESP: La ...</td>\n",
       "      <td>[sound:la_nena_riu_contenta.mp3]</td>\n",
       "      <td>La nena riu contenta.</td>\n",
       "      <td>La niña ríe contenta.</td>\n",
       "      <td>nena</td>\n",
       "      <td>nom</td>\n",
       "      <td>Gent/Edat</td>\n",
       "      <td>la_nena_riu_contenta.mp3</td>\n",
       "    </tr>\n",
       "    <tr>\n",
       "      <th>4</th>\n",
       "      <td>cat_esp_205</td>\n",
       "      <td>CAT: Va a l'{{c1::escola}} cada dia.&lt;br&gt;ESP: V...</td>\n",
       "      <td>[sound:va_a_l_escola_cada_dia.mp3]</td>\n",
       "      <td>Va a l'escola cada dia.</td>\n",
       "      <td>Va a la escuela cada día.</td>\n",
       "      <td>escola</td>\n",
       "      <td>nom</td>\n",
       "      <td>Educació/Llocs</td>\n",
       "      <td>va_a_l_escola_cada_dia.mp3</td>\n",
       "    </tr>\n",
       "  </tbody>\n",
       "</table>\n",
       "</div>"
      ],
      "text/plain": [
       "       card_id                                              front  \\\n",
       "0  cat_esp_201  CAT: El meu {{c1::fill}} juga al parc.<br>ESP:...   \n",
       "1  cat_esp_202  CAT: La meva {{c1::filla}} estudia molt.<br>ES...   \n",
       "2  cat_esp_203  CAT: Aquest {{c1::nen}} és simpàtic.<br>ESP: E...   \n",
       "3  cat_esp_204  CAT: La {{c1::nena}} riu contenta.<br>ESP: La ...   \n",
       "4  cat_esp_205  CAT: Va a l'{{c1::escola}} cada dia.<br>ESP: V...   \n",
       "\n",
       "                                     back                      catalan  \\\n",
       "0    [sound:el_meu_fill_juga_al_parc.mp3]    El meu fill juga al parc.   \n",
       "1  [sound:la_meva_filla_estudia_molt.mp3]  La meva filla estudia molt.   \n",
       "2      [sound:aquest_nen_es_simpatic.mp3]      Aquest nen és simpàtic.   \n",
       "3        [sound:la_nena_riu_contenta.mp3]        La nena riu contenta.   \n",
       "4      [sound:va_a_l_escola_cada_dia.mp3]      Va a l'escola cada dia.   \n",
       "\n",
       "                       español palabra categoría_gramatical categoría_de_uso  \\\n",
       "0  Mi hijo juega en el parque.    fill                  nom     Gent/Família   \n",
       "1       Mi hija estudia mucho.   filla                  nom     Gent/Família   \n",
       "2      Este niño es simpático.     nen                  nom        Gent/Edat   \n",
       "3        La niña ríe contenta.    nena                  nom        Gent/Edat   \n",
       "4    Va a la escuela cada día.  escola                  nom   Educació/Llocs   \n",
       "\n",
       "                  audio_file_name  \n",
       "0    el_meu_fill_juga_al_parc.mp3  \n",
       "1  la_meva_filla_estudia_molt.mp3  \n",
       "2      aquest_nen_es_simpatic.mp3  \n",
       "3        la_nena_riu_contenta.mp3  \n",
       "4      va_a_l_escola_cada_dia.mp3  "
      ]
     },
     "execution_count": 2,
     "metadata": {},
     "output_type": "execute_result"
    }
   ],
   "source": [
    "from glob import glob\n",
    "\n",
    "anki_csvs = []\n",
    "\n",
    "for f in  glob(\"input_data/gemini_anki_csvs/*\"):\n",
    "    df = pd.read_csv(f, sep=\";\")\n",
    "    anki_csvs.append(df)\n",
    "    \n",
    "anki_csvs = pd.concat(anki_csvs)\n",
    "anki_csvs.head()"
   ]
  },
  {
   "cell_type": "markdown",
   "id": "3c1d7382-2ea2-4f92-a4e2-5553cad35cbf",
   "metadata": {},
   "source": [
    "## Gemini generated word list\n",
    "\n",
    "> Puedes generar una lista de las 5000 palabras más comunes en catalán? Soy castellanoparlante y quiero aprenderlo memorizando el vocabulario más útil para mí. Divídela en secciones de unas 1000 palabras para segmentar el aprendizaje, de más comunes a más infrecuentes. Las quiero descargar como fichero de texto.\n",
    "\n"
   ]
  },
  {
   "cell_type": "code",
   "execution_count": 3,
   "id": "301b5dad-ab14-42a7-87e4-7772dc8cebcb",
   "metadata": {
    "tags": []
   },
   "outputs": [
    {
     "data": {
      "text/html": [
       "<div>\n",
       "<style scoped>\n",
       "    .dataframe tbody tr th:only-of-type {\n",
       "        vertical-align: middle;\n",
       "    }\n",
       "\n",
       "    .dataframe tbody tr th {\n",
       "        vertical-align: top;\n",
       "    }\n",
       "\n",
       "    .dataframe thead th {\n",
       "        text-align: right;\n",
       "    }\n",
       "</style>\n",
       "<table border=\"1\" class=\"dataframe\">\n",
       "  <thead>\n",
       "    <tr style=\"text-align: right;\">\n",
       "      <th></th>\n",
       "      <th>0</th>\n",
       "    </tr>\n",
       "  </thead>\n",
       "  <tbody>\n",
       "    <tr>\n",
       "      <th>0</th>\n",
       "      <td>de</td>\n",
       "    </tr>\n",
       "    <tr>\n",
       "      <th>1</th>\n",
       "      <td>la</td>\n",
       "    </tr>\n",
       "    <tr>\n",
       "      <th>2</th>\n",
       "      <td>i</td>\n",
       "    </tr>\n",
       "    <tr>\n",
       "      <th>3</th>\n",
       "      <td>a</td>\n",
       "    </tr>\n",
       "    <tr>\n",
       "      <th>4</th>\n",
       "      <td>el</td>\n",
       "    </tr>\n",
       "    <tr>\n",
       "      <th>...</th>\n",
       "      <td>...</td>\n",
       "    </tr>\n",
       "    <tr>\n",
       "      <th>1103</th>\n",
       "      <td>flor tallada</td>\n",
       "    </tr>\n",
       "    <tr>\n",
       "      <th>1104</th>\n",
       "      <td>espelma</td>\n",
       "    </tr>\n",
       "    <tr>\n",
       "      <th>1105</th>\n",
       "      <td>encenedor</td>\n",
       "    </tr>\n",
       "    <tr>\n",
       "      <th>1106</th>\n",
       "      <td>llumins</td>\n",
       "    </tr>\n",
       "    <tr>\n",
       "      <th>1107</th>\n",
       "      <td>cendra</td>\n",
       "    </tr>\n",
       "  </tbody>\n",
       "</table>\n",
       "<p>1108 rows × 1 columns</p>\n",
       "</div>"
      ],
      "text/plain": [
       "                 0\n",
       "0               de\n",
       "1               la\n",
       "2                i\n",
       "3                a\n",
       "4               el\n",
       "...            ...\n",
       "1103  flor tallada\n",
       "1104       espelma\n",
       "1105     encenedor\n",
       "1106       llumins\n",
       "1107        cendra\n",
       "\n",
       "[1108 rows x 1 columns]"
      ]
     },
     "execution_count": 3,
     "metadata": {},
     "output_type": "execute_result"
    }
   ],
   "source": [
    "gemini_word_list = pd.read_csv(\"input_data/gemini_word_list/catalan_word_list_0001-1108.txt\", header=None)\n",
    "gemini_word_list"
   ]
  },
  {
   "cell_type": "markdown",
   "id": "25ee0397-d964-4dd2-aa36-7711c386b7fb",
   "metadata": {},
   "source": [
    "## Viccionari word list\n",
    "\n",
    "[List of words from Viccionari](https://ca.wiktionary.org/wiki/Viccionari:Llista_de_freq%C3%BC%C3%A8ncies)"
   ]
  },
  {
   "cell_type": "code",
   "execution_count": 4,
   "id": "d7c9b354-b9cc-4663-bdcc-5ba200f6726b",
   "metadata": {
    "tags": []
   },
   "outputs": [
    {
     "data": {
      "text/plain": [
       "['de', 'la', 'i', 'el', 'a', \"l'\", 'en', 'que', \"d'\", 'va']"
      ]
     },
     "execution_count": 4,
     "metadata": {},
     "output_type": "execute_result"
    }
   ],
   "source": [
    "import re\n",
    "\n",
    "word = re.compile('^[0-9]+\\. (.+) [0-9]+$')\n",
    "\n",
    "viccionari_words = []\n",
    "\n",
    "for f in sorted(glob('input_data/viccionari/*.txt')):\n",
    "    with open(f) as file:\n",
    "        for line in file:\n",
    "            viccionari_words.append(re.search(word, line).groups()[0])\n",
    "            \n",
    "viccionari_words[:10]"
   ]
  },
  {
   "cell_type": "code",
   "execution_count": 5,
   "id": "4edddf3f-2d21-40bf-8a0e-c4a2d935f7fd",
   "metadata": {},
   "outputs": [
    {
     "data": {
      "text/plain": [
       "8000"
      ]
     },
     "execution_count": 5,
     "metadata": {},
     "output_type": "execute_result"
    }
   ],
   "source": [
    "len(viccionari_words)"
   ]
  },
  {
   "cell_type": "markdown",
   "id": "44218ecc-cb38-4c3d-929d-27a1e6e2590d",
   "metadata": {},
   "source": [
    "## Unification"
   ]
  },
  {
   "cell_type": "code",
   "execution_count": 6,
   "id": "04e7b4c1-dc16-45e1-b9df-91c13c1ee34c",
   "metadata": {},
   "outputs": [
    {
     "data": {
      "text/plain": [
       "1890"
      ]
     },
     "execution_count": 6,
     "metadata": {},
     "output_type": "execute_result"
    }
   ],
   "source": [
    "all_words = pd.concat([gemini_word_list[0], anki_csvs['palabra'], pd.Series(viccionari_words)])\n",
    "\n",
    "all_words.duplicated().sum()"
   ]
  },
  {
   "cell_type": "code",
   "execution_count": 7,
   "id": "d8eb57ca-cdf8-4807-b99b-7507c4640074",
   "metadata": {},
   "outputs": [
    {
     "data": {
      "text/plain": [
       "0               de\n",
       "1               la\n",
       "2                i\n",
       "3                a\n",
       "4               el\n",
       "           ...    \n",
       "8363      incursió\n",
       "8364       lliçons\n",
       "8365        Llíria\n",
       "8366    majoritari\n",
       "8367     mercaders\n",
       "Name: 0, Length: 8368, dtype: object"
      ]
     },
     "execution_count": 7,
     "metadata": {},
     "output_type": "execute_result"
    }
   ],
   "source": [
    "deduped = all_words.drop_duplicates().reset_index()[0]\n",
    "\n",
    "deduped"
   ]
  },
  {
   "cell_type": "code",
   "execution_count": 16,
   "id": "b22a6be3-7351-41e5-a194-154bcae371e1",
   "metadata": {},
   "outputs": [],
   "source": [
    "deduped.to_csv('final_catalan_words_list.txt', index=False, header=False)"
   ]
  }
 ],
 "metadata": {
  "kernelspec": {
   "display_name": "Python 3 (ipykernel)",
   "language": "python",
   "name": "python3"
  },
  "language_info": {
   "codemirror_mode": {
    "name": "ipython",
    "version": 3
   },
   "file_extension": ".py",
   "mimetype": "text/x-python",
   "name": "python",
   "nbconvert_exporter": "python",
   "pygments_lexer": "ipython3",
   "version": "3.10.9"
  }
 },
 "nbformat": 4,
 "nbformat_minor": 5
}
